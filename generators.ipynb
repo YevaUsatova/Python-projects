{
 "cells": [
  {
   "cell_type": "code",
   "execution_count": 5,
   "id": "27dc0ae1",
   "metadata": {},
   "outputs": [],
   "source": [
    "def func():\n",
    "    return \"1\""
   ]
  },
  {
   "cell_type": "code",
   "execution_count": 6,
   "id": "8dbd0a74",
   "metadata": {},
   "outputs": [
    {
     "data": {
      "text/plain": [
       "'1'"
      ]
     },
     "execution_count": 6,
     "metadata": {},
     "output_type": "execute_result"
    }
   ],
   "source": [
    "func()"
   ]
  },
  {
   "cell_type": "code",
   "execution_count": 7,
   "id": "ff4b74f9",
   "metadata": {},
   "outputs": [],
   "source": [
    "greet =func"
   ]
  },
  {
   "cell_type": "code",
   "execution_count": 8,
   "id": "33fe7b14",
   "metadata": {},
   "outputs": [
    {
     "data": {
      "text/plain": [
       "'1'"
      ]
     },
     "execution_count": 8,
     "metadata": {},
     "output_type": "execute_result"
    }
   ],
   "source": [
    "greet()"
   ]
  },
  {
   "cell_type": "code",
   "execution_count": null,
   "id": "c43c5aa4",
   "metadata": {},
   "outputs": [],
   "source": []
  },
  {
   "cell_type": "code",
   "execution_count": 19,
   "id": "0329c987",
   "metadata": {},
   "outputs": [],
   "source": [
    "def hello(name=\"Jose\"):\n",
    "    print(\"Hello() function was executed\")\n",
    "    \n",
    "    def grit():\n",
    "        return '\\t This is a greet function inside of hello()'\n",
    "    def welcome():\n",
    "        return '\\t This is a welcome function inside of hello()'\n",
    "    print('i am here')\n",
    "    \n",
    "    if name == 'Jose':\n",
    "        return grit\n",
    "    else:\n",
    "        return welcome"
   ]
  },
  {
   "cell_type": "code",
   "execution_count": 20,
   "id": "3cc5824d",
   "metadata": {},
   "outputs": [
    {
     "name": "stdout",
     "output_type": "stream",
     "text": [
      "Hello() function was executed\n",
      "i am here\n"
     ]
    },
    {
     "data": {
      "text/plain": [
       "<function __main__.hello.<locals>.grit()>"
      ]
     },
     "execution_count": 20,
     "metadata": {},
     "output_type": "execute_result"
    }
   ],
   "source": [
    "hello()"
   ]
  },
  {
   "cell_type": "code",
   "execution_count": 21,
   "id": "c46849df",
   "metadata": {},
   "outputs": [
    {
     "name": "stdout",
     "output_type": "stream",
     "text": [
      "Hello() function was executed\n",
      "i am here\n"
     ]
    }
   ],
   "source": [
    "new_f = hello('Anna')"
   ]
  },
  {
   "cell_type": "code",
   "execution_count": 22,
   "id": "0dab9650",
   "metadata": {},
   "outputs": [
    {
     "data": {
      "text/plain": [
       "'\\t This is a welcome function inside of hello()'"
      ]
     },
     "execution_count": 22,
     "metadata": {},
     "output_type": "execute_result"
    }
   ],
   "source": [
    "new_f()"
   ]
  },
  {
   "cell_type": "code",
   "execution_count": 23,
   "id": "d714c26e",
   "metadata": {},
   "outputs": [],
   "source": [
    "def cool_f():\n",
    "    \n",
    "    def new_cool():\n",
    "        return \" SUpper cool\"\n",
    "    return new_cool"
   ]
  },
  {
   "cell_type": "code",
   "execution_count": 26,
   "id": "6b6c8f43",
   "metadata": {},
   "outputs": [],
   "source": [
    "newsss = cool_f()"
   ]
  },
  {
   "cell_type": "code",
   "execution_count": 27,
   "id": "d55a607f",
   "metadata": {},
   "outputs": [
    {
     "data": {
      "text/plain": [
       "' SUpper cool'"
      ]
     },
     "execution_count": 27,
     "metadata": {},
     "output_type": "execute_result"
    }
   ],
   "source": [
    "newsss()"
   ]
  },
  {
   "cell_type": "code",
   "execution_count": null,
   "id": "0e8015ac",
   "metadata": {},
   "outputs": [],
   "source": []
  },
  {
   "cell_type": "code",
   "execution_count": null,
   "id": "54d1ed4f",
   "metadata": {},
   "outputs": [],
   "source": []
  },
  {
   "cell_type": "code",
   "execution_count": null,
   "id": "4da125e4",
   "metadata": {},
   "outputs": [],
   "source": []
  },
  {
   "cell_type": "code",
   "execution_count": null,
   "id": "4f41a930",
   "metadata": {},
   "outputs": [],
   "source": []
  },
  {
   "cell_type": "code",
   "execution_count": null,
   "id": "45306c4a",
   "metadata": {},
   "outputs": [],
   "source": []
  },
  {
   "cell_type": "code",
   "execution_count": 28,
   "id": "3c0cfbd1",
   "metadata": {},
   "outputs": [],
   "source": [
    "def hello():\n",
    "    return(\"Hi Jose\")"
   ]
  },
  {
   "cell_type": "code",
   "execution_count": 33,
   "id": "e77a9615",
   "metadata": {},
   "outputs": [],
   "source": [
    "def other(new_func):\n",
    "    print(\"DO some stuff here\")\n",
    "    print(new_func())"
   ]
  },
  {
   "cell_type": "code",
   "execution_count": 30,
   "id": "28087600",
   "metadata": {},
   "outputs": [
    {
     "data": {
      "text/plain": [
       "'Hi Jose'"
      ]
     },
     "execution_count": 30,
     "metadata": {},
     "output_type": "execute_result"
    }
   ],
   "source": [
    "hello()"
   ]
  },
  {
   "cell_type": "code",
   "execution_count": 32,
   "id": "f39d5364",
   "metadata": {},
   "outputs": [
    {
     "name": "stdout",
     "output_type": "stream",
     "text": [
      "DO some stuff here\n",
      "Hi Jose\n"
     ]
    }
   ],
   "source": [
    "other(hello)"
   ]
  },
  {
   "cell_type": "code",
   "execution_count": null,
   "id": "a6143ef9",
   "metadata": {},
   "outputs": [],
   "source": []
  },
  {
   "cell_type": "code",
   "execution_count": null,
   "id": "d7dd5176",
   "metadata": {},
   "outputs": [],
   "source": []
  },
  {
   "cell_type": "code",
   "execution_count": 35,
   "id": "2404dce2",
   "metadata": {},
   "outputs": [],
   "source": [
    "def new_decorator(original_fun):\n",
    "    def wrap():\n",
    "        print (\"Inner function\")\n",
    "        original_fun()\n",
    "        print(\"after original function\")\n",
    "    return wrap"
   ]
  },
  {
   "cell_type": "code",
   "execution_count": 36,
   "id": "c95f9ff7",
   "metadata": {},
   "outputs": [],
   "source": [
    "def needs_decor():\n",
    "    print(\"I need decorator\")"
   ]
  },
  {
   "cell_type": "code",
   "execution_count": 38,
   "id": "0a088cee",
   "metadata": {},
   "outputs": [],
   "source": [
    "decor_fun = new_decorator(needs_decor)"
   ]
  },
  {
   "cell_type": "code",
   "execution_count": 40,
   "id": "617c6775",
   "metadata": {},
   "outputs": [
    {
     "name": "stdout",
     "output_type": "stream",
     "text": [
      "Inner function\n",
      "I need decorator\n",
      "after original function\n"
     ]
    }
   ],
   "source": [
    "decor_fun()\n"
   ]
  },
  {
   "cell_type": "code",
   "execution_count": null,
   "id": "db963e6a",
   "metadata": {},
   "outputs": [],
   "source": []
  },
  {
   "cell_type": "code",
   "execution_count": 41,
   "id": "386396e9",
   "metadata": {},
   "outputs": [],
   "source": [
    "@new_decorator\n",
    "def more_dec():\n",
    "    print('We need decors')"
   ]
  },
  {
   "cell_type": "code",
   "execution_count": 42,
   "id": "fb0ce983",
   "metadata": {},
   "outputs": [
    {
     "name": "stdout",
     "output_type": "stream",
     "text": [
      "Inner function\n",
      "We need decors\n",
      "after original function\n"
     ]
    }
   ],
   "source": [
    "more_dec()"
   ]
  },
  {
   "cell_type": "code",
   "execution_count": null,
   "id": "0147ae2c",
   "metadata": {},
   "outputs": [],
   "source": []
  },
  {
   "cell_type": "code",
   "execution_count": null,
   "id": "b5dbc0a4",
   "metadata": {},
   "outputs": [],
   "source": []
  },
  {
   "cell_type": "code",
   "execution_count": null,
   "id": "3027bddf",
   "metadata": {},
   "outputs": [],
   "source": []
  },
  {
   "cell_type": "code",
   "execution_count": null,
   "id": "31808cd4",
   "metadata": {},
   "outputs": [],
   "source": []
  },
  {
   "cell_type": "code",
   "execution_count": null,
   "id": "98aec831",
   "metadata": {},
   "outputs": [],
   "source": []
  },
  {
   "cell_type": "code",
   "execution_count": 51,
   "id": "5bb30537",
   "metadata": {},
   "outputs": [],
   "source": [
    "def create_cube(n):\n",
    "    for x in range(n):\n",
    "         yield(x**3)\n",
    "   "
   ]
  },
  {
   "cell_type": "code",
   "execution_count": 52,
   "id": "08e5cf6d",
   "metadata": {},
   "outputs": [
    {
     "name": "stdout",
     "output_type": "stream",
     "text": [
      "0\n",
      "1\n",
      "8\n",
      "27\n",
      "64\n",
      "125\n",
      "216\n",
      "343\n",
      "512\n",
      "729\n"
     ]
    }
   ],
   "source": [
    "for i in create_cube(10):\n",
    "    print(i)"
   ]
  },
  {
   "cell_type": "code",
   "execution_count": null,
   "id": "3e008569",
   "metadata": {},
   "outputs": [],
   "source": []
  },
  {
   "cell_type": "code",
   "execution_count": 53,
   "id": "558d879e",
   "metadata": {},
   "outputs": [],
   "source": [
    "def fubon_n(n):\n",
    "    a = 1\n",
    "    b = 1\n",
    "    for i in range(n):\n",
    "        yield a\n",
    "        a,b = b, a + b"
   ]
  },
  {
   "cell_type": "code",
   "execution_count": 54,
   "id": "9e12aaf9",
   "metadata": {},
   "outputs": [
    {
     "name": "stdout",
     "output_type": "stream",
     "text": [
      "1\n",
      "1\n",
      "2\n",
      "3\n",
      "5\n",
      "8\n",
      "13\n",
      "21\n",
      "34\n",
      "55\n"
     ]
    }
   ],
   "source": [
    "for i in fubon_n(10):\n",
    "    print(i)"
   ]
  },
  {
   "cell_type": "code",
   "execution_count": 56,
   "id": "c64aa463",
   "metadata": {},
   "outputs": [],
   "source": [
    "g = fubon_n(10)"
   ]
  },
  {
   "cell_type": "code",
   "execution_count": 57,
   "id": "f4932a1a",
   "metadata": {},
   "outputs": [
    {
     "name": "stdout",
     "output_type": "stream",
     "text": [
      "1\n"
     ]
    }
   ],
   "source": [
    "print(next(g))"
   ]
  },
  {
   "cell_type": "code",
   "execution_count": 58,
   "id": "a3babf99",
   "metadata": {},
   "outputs": [
    {
     "name": "stdout",
     "output_type": "stream",
     "text": [
      "1\n"
     ]
    }
   ],
   "source": [
    "print(next(g))"
   ]
  },
  {
   "cell_type": "code",
   "execution_count": 59,
   "id": "41e16188",
   "metadata": {},
   "outputs": [
    {
     "name": "stdout",
     "output_type": "stream",
     "text": [
      "2\n"
     ]
    }
   ],
   "source": [
    "print(next(g))"
   ]
  },
  {
   "cell_type": "code",
   "execution_count": null,
   "id": "39fec497",
   "metadata": {},
   "outputs": [],
   "source": []
  },
  {
   "cell_type": "code",
   "execution_count": null,
   "id": "89c34284",
   "metadata": {},
   "outputs": [],
   "source": []
  },
  {
   "cell_type": "code",
   "execution_count": null,
   "id": "9bc9f876",
   "metadata": {},
   "outputs": [],
   "source": []
  },
  {
   "cell_type": "code",
   "execution_count": null,
   "id": "0418f45e",
   "metadata": {},
   "outputs": [],
   "source": []
  },
  {
   "cell_type": "code",
   "execution_count": null,
   "id": "982a6286",
   "metadata": {},
   "outputs": [],
   "source": []
  },
  {
   "cell_type": "code",
   "execution_count": 60,
   "id": "ac8720b4",
   "metadata": {},
   "outputs": [],
   "source": [
    "#homework"
   ]
  },
  {
   "cell_type": "code",
   "execution_count": 65,
   "id": "58978ecc",
   "metadata": {},
   "outputs": [],
   "source": [
    "def gensquares(N):\n",
    "\n",
    "    for i in range(N):\n",
    "        yield i**2"
   ]
  },
  {
   "cell_type": "code",
   "execution_count": 66,
   "id": "8b708492",
   "metadata": {},
   "outputs": [
    {
     "name": "stdout",
     "output_type": "stream",
     "text": [
      "0\n",
      "1\n",
      "4\n",
      "9\n",
      "16\n",
      "25\n",
      "36\n",
      "49\n",
      "64\n",
      "81\n"
     ]
    }
   ],
   "source": [
    "for x in gensquares(10):\n",
    "    print(x)"
   ]
  },
  {
   "cell_type": "code",
   "execution_count": 95,
   "id": "ffd75faa",
   "metadata": {},
   "outputs": [],
   "source": [
    "import random\n",
    "def rand_num(low,high,n):\n",
    "     \n",
    "    for i in range(n):\n",
    "        yield random.randint(low,high)"
   ]
  },
  {
   "cell_type": "code",
   "execution_count": 96,
   "id": "a0ae0aad",
   "metadata": {},
   "outputs": [
    {
     "name": "stdout",
     "output_type": "stream",
     "text": [
      "9\n",
      "7\n",
      "7\n",
      "6\n",
      "3\n",
      "4\n",
      "8\n",
      "3\n",
      "4\n",
      "1\n",
      "2\n",
      "6\n"
     ]
    }
   ],
   "source": [
    "for num in rand_num(1,10,12):\n",
    "    print(num)"
   ]
  },
  {
   "cell_type": "code",
   "execution_count": 97,
   "id": "d4887d41",
   "metadata": {},
   "outputs": [],
   "source": [
    "s = 'hello'"
   ]
  },
  {
   "cell_type": "code",
   "execution_count": 83,
   "id": "1b7ed0e3",
   "metadata": {},
   "outputs": [],
   "source": []
  },
  {
   "cell_type": "code",
   "execution_count": 98,
   "id": "9c11d194",
   "metadata": {},
   "outputs": [],
   "source": [
    "new_w = iter(s)"
   ]
  },
  {
   "cell_type": "code",
   "execution_count": 99,
   "id": "7842fcc9",
   "metadata": {},
   "outputs": [
    {
     "name": "stdout",
     "output_type": "stream",
     "text": [
      "h\n",
      "e\n",
      "l\n",
      "l\n",
      "o\n"
     ]
    }
   ],
   "source": [
    "for i in new_w:\n",
    "    print( i)"
   ]
  },
  {
   "cell_type": "code",
   "execution_count": 92,
   "id": "ad406ec4",
   "metadata": {},
   "outputs": [
    {
     "name": "stdout",
     "output_type": "stream",
     "text": [
      "4\n",
      "5\n"
     ]
    }
   ],
   "source": [
    "my_list = [1,2,3,4,5]\n",
    "\n",
    "gencomp = (item for item in my_list if item > 3)\n",
    "\n",
    "for item in gencomp:\n",
    "    print(item)"
   ]
  },
  {
   "cell_type": "code",
   "execution_count": null,
   "id": "3df30ff5",
   "metadata": {},
   "outputs": [],
   "source": []
  }
 ],
 "metadata": {
  "kernelspec": {
   "display_name": "Python 3 (ipykernel)",
   "language": "python",
   "name": "python3"
  },
  "language_info": {
   "codemirror_mode": {
    "name": "ipython",
    "version": 3
   },
   "file_extension": ".py",
   "mimetype": "text/x-python",
   "name": "python",
   "nbconvert_exporter": "python",
   "pygments_lexer": "ipython3",
   "version": "3.9.13"
  }
 },
 "nbformat": 4,
 "nbformat_minor": 5
}
