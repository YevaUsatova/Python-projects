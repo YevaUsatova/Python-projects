{
 "cells": [
  {
   "cell_type": "code",
   "execution_count": 53,
   "id": "4ccb775a",
   "metadata": {},
   "outputs": [],
   "source": [
    "class Cat():\n",
    "    species = \"mammal\"\n",
    "    def __init__(self, breed, name, number):\n",
    "        self.breed = breed\n",
    "        self.name = name\n",
    "        self.number = number \n",
    "        \n",
    "    def caats(self, color):\n",
    "        print(\"Myaw, my name is {} and color {} \".format(self.name, color))"
   ]
  },
  {
   "cell_type": "code",
   "execution_count": 54,
   "id": "641d3183",
   "metadata": {},
   "outputs": [],
   "source": [
    "my_cat = Cat(breed='jupiter', name = 'Molly', number = 10)"
   ]
  },
  {
   "cell_type": "code",
   "execution_count": 55,
   "id": "82c5d4a1",
   "metadata": {},
   "outputs": [
    {
     "data": {
      "text/plain": [
       "'jupiter'"
      ]
     },
     "execution_count": 55,
     "metadata": {},
     "output_type": "execute_result"
    }
   ],
   "source": [
    "my_cat.breed"
   ]
  },
  {
   "cell_type": "code",
   "execution_count": 56,
   "id": "5c12a939",
   "metadata": {},
   "outputs": [
    {
     "data": {
      "text/plain": [
       "'Molly'"
      ]
     },
     "execution_count": 56,
     "metadata": {},
     "output_type": "execute_result"
    }
   ],
   "source": [
    "my_cat.name"
   ]
  },
  {
   "cell_type": "code",
   "execution_count": 57,
   "id": "2774c7a4",
   "metadata": {},
   "outputs": [
    {
     "data": {
      "text/plain": [
       "10"
      ]
     },
     "execution_count": 57,
     "metadata": {},
     "output_type": "execute_result"
    }
   ],
   "source": [
    "my_cat.number"
   ]
  },
  {
   "cell_type": "code",
   "execution_count": 58,
   "id": "e1ac2736",
   "metadata": {},
   "outputs": [
    {
     "data": {
      "text/plain": [
       "'mammal'"
      ]
     },
     "execution_count": 58,
     "metadata": {},
     "output_type": "execute_result"
    }
   ],
   "source": [
    "my_cat.species"
   ]
  },
  {
   "cell_type": "code",
   "execution_count": 59,
   "id": "645c2cb7",
   "metadata": {},
   "outputs": [
    {
     "name": "stdout",
     "output_type": "stream",
     "text": [
      "Myaw, my name is Molly and color blue \n"
     ]
    }
   ],
   "source": [
    "my_cat.caats(\"blue\")"
   ]
  },
  {
   "cell_type": "code",
   "execution_count": null,
   "id": "3471f4ef",
   "metadata": {},
   "outputs": [],
   "source": []
  },
  {
   "cell_type": "code",
   "execution_count": null,
   "id": "e89d1bd1",
   "metadata": {},
   "outputs": [],
   "source": []
  },
  {
   "cell_type": "code",
   "execution_count": null,
   "id": "29f9b68c",
   "metadata": {},
   "outputs": [],
   "source": []
  },
  {
   "cell_type": "code",
   "execution_count": 64,
   "id": "f39d39d6",
   "metadata": {},
   "outputs": [],
   "source": [
    "class Circle():\n",
    "    pi = 3.14\n",
    "    def __init__(self, radius = 1):\n",
    "        self.radius = radius\n",
    "        \n",
    "    def circles(self):\n",
    "        cir = self.pi * self.radius\n",
    "        print(cir)"
   ]
  },
  {
   "cell_type": "code",
   "execution_count": 65,
   "id": "c5c83468",
   "metadata": {},
   "outputs": [],
   "source": [
    "my_circle = Circle(radius= 10)"
   ]
  },
  {
   "cell_type": "code",
   "execution_count": 66,
   "id": "620c1488",
   "metadata": {},
   "outputs": [
    {
     "name": "stdout",
     "output_type": "stream",
     "text": [
      "31.400000000000002\n"
     ]
    }
   ],
   "source": [
    "my_circle.circles()"
   ]
  },
  {
   "cell_type": "code",
   "execution_count": null,
   "id": "0ddec604",
   "metadata": {},
   "outputs": [],
   "source": []
  },
  {
   "cell_type": "code",
   "execution_count": null,
   "id": "a26f3c4d",
   "metadata": {},
   "outputs": [],
   "source": []
  },
  {
   "cell_type": "code",
   "execution_count": null,
   "id": "485752f8",
   "metadata": {},
   "outputs": [],
   "source": []
  },
  {
   "cell_type": "code",
   "execution_count": 74,
   "id": "5757fac7",
   "metadata": {},
   "outputs": [],
   "source": [
    "class Animal():\n",
    "    def __init__(self):\n",
    "        print(\"hi there from animal\")\n",
    "        \n",
    "    def something(self):\n",
    "        print(\"second method\")"
   ]
  },
  {
   "cell_type": "code",
   "execution_count": 79,
   "id": "d1ec5a08",
   "metadata": {},
   "outputs": [],
   "source": [
    "class Cat(Animal):\n",
    "    def __init__(self):\n",
    "        Animal.__init__(self)\n",
    "        print(\"Molly it is\")\n",
    "        \n",
    "    def something(self):\n",
    "        print(\"changed that\")\n",
    "        \n",
    "    def meow(self):\n",
    "        print(\"Meeeoooowwww\")"
   ]
  },
  {
   "cell_type": "code",
   "execution_count": 80,
   "id": "d90e5c47",
   "metadata": {},
   "outputs": [
    {
     "name": "stdout",
     "output_type": "stream",
     "text": [
      "hi there from animal\n",
      "Molly it is\n"
     ]
    }
   ],
   "source": [
    "my_cat = Cat()"
   ]
  },
  {
   "cell_type": "code",
   "execution_count": 81,
   "id": "79a7f572",
   "metadata": {},
   "outputs": [
    {
     "name": "stdout",
     "output_type": "stream",
     "text": [
      "changed that\n"
     ]
    }
   ],
   "source": [
    "my_cat.something()"
   ]
  },
  {
   "cell_type": "code",
   "execution_count": 82,
   "id": "d8e11f92",
   "metadata": {},
   "outputs": [
    {
     "name": "stdout",
     "output_type": "stream",
     "text": [
      "Meeeoooowwww\n"
     ]
    }
   ],
   "source": [
    "my_cat.meow()"
   ]
  },
  {
   "cell_type": "code",
   "execution_count": null,
   "id": "87239f12",
   "metadata": {},
   "outputs": [],
   "source": []
  },
  {
   "cell_type": "code",
   "execution_count": null,
   "id": "72bb78a4",
   "metadata": {},
   "outputs": [],
   "source": []
  },
  {
   "cell_type": "code",
   "execution_count": 97,
   "id": "fafd4c7f",
   "metadata": {},
   "outputs": [],
   "source": [
    "class Dog():\n",
    "    def __init__(self, name):\n",
    "        self.name = name\n",
    "        \n",
    "    def something(self):\n",
    "        return('barking now ' + self.name)"
   ]
  },
  {
   "cell_type": "code",
   "execution_count": 98,
   "id": "366a6561",
   "metadata": {},
   "outputs": [],
   "source": [
    "class Cat():\n",
    "    def __init__(self,name):\n",
    "        self.name= name\n",
    "        \n",
    "    def something(self):\n",
    "        return('meowing now ' + self.name)"
   ]
  },
  {
   "cell_type": "code",
   "execution_count": 99,
   "id": "a71de467",
   "metadata": {},
   "outputs": [],
   "source": [
    "dogs = Dog(\"dogs\")\n",
    "cats = Cat(\"cats\")"
   ]
  },
  {
   "cell_type": "code",
   "execution_count": 100,
   "id": "dcee83a2",
   "metadata": {},
   "outputs": [
    {
     "name": "stdout",
     "output_type": "stream",
     "text": [
      "barking now dogs\n",
      "meowing now cats\n"
     ]
    }
   ],
   "source": [
    "for pet in [dogs,cats]:\n",
    "    print(pet.something())"
   ]
  },
  {
   "cell_type": "code",
   "execution_count": 104,
   "id": "c4428632",
   "metadata": {},
   "outputs": [],
   "source": [
    "def speak(pet):\n",
    "    print(pet.something())"
   ]
  },
  {
   "cell_type": "code",
   "execution_count": 105,
   "id": "c2decdcf",
   "metadata": {},
   "outputs": [
    {
     "name": "stdout",
     "output_type": "stream",
     "text": [
      "barking now dogs\n"
     ]
    }
   ],
   "source": [
    "speak(dogs)"
   ]
  },
  {
   "cell_type": "code",
   "execution_count": 106,
   "id": "96c39371",
   "metadata": {},
   "outputs": [
    {
     "name": "stdout",
     "output_type": "stream",
     "text": [
      "meowing now cats\n"
     ]
    }
   ],
   "source": [
    "speak(cats)"
   ]
  },
  {
   "cell_type": "code",
   "execution_count": null,
   "id": "1509da8a",
   "metadata": {},
   "outputs": [],
   "source": []
  },
  {
   "cell_type": "code",
   "execution_count": null,
   "id": "d278c62c",
   "metadata": {},
   "outputs": [],
   "source": []
  },
  {
   "cell_type": "code",
   "execution_count": null,
   "id": "b3404256",
   "metadata": {},
   "outputs": [],
   "source": []
  },
  {
   "cell_type": "code",
   "execution_count": 135,
   "id": "93e30d55",
   "metadata": {},
   "outputs": [],
   "source": [
    "class Book():\n",
    "    def __init__(self, tittle, author, pages):\n",
    "        self.tittle = tittle\n",
    "        self.author = author\n",
    "        self.pages =pages\n",
    "        \n",
    "    def __str__(self):\n",
    "        return f'{self.tittle} by {self.author} has {self.pages} pages'\n",
    "    def __len__(self):\n",
    "        return self.pages\n",
    "    def __del__(self):\n",
    "        print(\"This object will be deleted\") "
   ]
  },
  {
   "cell_type": "code",
   "execution_count": 136,
   "id": "3f53adcc",
   "metadata": {},
   "outputs": [],
   "source": [
    "b = Book(\"IT\", \"Stephen King\", 1500)"
   ]
  },
  {
   "cell_type": "code",
   "execution_count": 137,
   "id": "f230cfea",
   "metadata": {},
   "outputs": [
    {
     "name": "stdout",
     "output_type": "stream",
     "text": [
      "IT by Stephen King has 1500 pages\n"
     ]
    }
   ],
   "source": [
    "print(b)"
   ]
  },
  {
   "cell_type": "code",
   "execution_count": 138,
   "id": "38e1ee3a",
   "metadata": {},
   "outputs": [
    {
     "data": {
      "text/plain": [
       "1500"
      ]
     },
     "execution_count": 138,
     "metadata": {},
     "output_type": "execute_result"
    }
   ],
   "source": [
    "len(b)"
   ]
  },
  {
   "cell_type": "code",
   "execution_count": 139,
   "id": "691c3b94",
   "metadata": {},
   "outputs": [
    {
     "name": "stdout",
     "output_type": "stream",
     "text": [
      "This object will be deleted\n"
     ]
    }
   ],
   "source": [
    "del b"
   ]
  },
  {
   "cell_type": "code",
   "execution_count": 140,
   "id": "006786cb",
   "metadata": {},
   "outputs": [
    {
     "ename": "NameError",
     "evalue": "name 'b' is not defined",
     "output_type": "error",
     "traceback": [
      "\u001b[1;31m---------------------------------------------------------------------------\u001b[0m",
      "\u001b[1;31mNameError\u001b[0m                                 Traceback (most recent call last)",
      "\u001b[1;32m~\\AppData\\Local\\Temp\\ipykernel_13200\\1685013873.py\u001b[0m in \u001b[0;36m<module>\u001b[1;34m\u001b[0m\n\u001b[1;32m----> 1\u001b[1;33m \u001b[0mb\u001b[0m\u001b[1;33m\u001b[0m\u001b[1;33m\u001b[0m\u001b[0m\n\u001b[0m",
      "\u001b[1;31mNameError\u001b[0m: name 'b' is not defined"
     ]
    }
   ],
   "source": [
    "b"
   ]
  },
  {
   "cell_type": "code",
   "execution_count": null,
   "id": "1e1ebac0",
   "metadata": {},
   "outputs": [],
   "source": []
  }
 ],
 "metadata": {
  "kernelspec": {
   "display_name": "Python 3 (ipykernel)",
   "language": "python",
   "name": "python3"
  },
  "language_info": {
   "codemirror_mode": {
    "name": "ipython",
    "version": 3
   },
   "file_extension": ".py",
   "mimetype": "text/x-python",
   "name": "python",
   "nbconvert_exporter": "python",
   "pygments_lexer": "ipython3",
   "version": "3.9.13"
  }
 },
 "nbformat": 4,
 "nbformat_minor": 5
}
