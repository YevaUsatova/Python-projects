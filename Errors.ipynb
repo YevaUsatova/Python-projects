{
 "cells": [
  {
   "cell_type": "code",
   "execution_count": 7,
   "id": "46f9c68e",
   "metadata": {},
   "outputs": [
    {
     "name": "stdout",
     "output_type": "stream",
     "text": [
      "There is no error\n",
      "20\n"
     ]
    }
   ],
   "source": [
    "try:\n",
    "    result = 10 + 10\n",
    "except:\n",
    "    print(\"You arent adding correctly\")\n",
    "else:\n",
    "    print(\"There is no error\")\n",
    "    print(result)"
   ]
  },
  {
   "cell_type": "code",
   "execution_count": null,
   "id": "907b2f5c",
   "metadata": {},
   "outputs": [],
   "source": []
  },
  {
   "cell_type": "code",
   "execution_count": 9,
   "id": "c456dedf",
   "metadata": {},
   "outputs": [
    {
     "name": "stdout",
     "output_type": "stream",
     "text": [
      "Wrong permissions\n",
      "I run anyway\n"
     ]
    }
   ],
   "source": [
    "try:\n",
    "    f = open('file', 'r')\n",
    "    f.write(\"Write a test line\")\n",
    "except TypeError:\n",
    "    print(\"Wront type\")\n",
    "except OSError:\n",
    "    print(\"Wrong permissions\")\n",
    "finally:\n",
    "    print(\"I run anyway\")"
   ]
  },
  {
   "cell_type": "code",
   "execution_count": 12,
   "id": "0cdca81d",
   "metadata": {},
   "outputs": [],
   "source": [
    "def need_int():\n",
    "    while True:\n",
    "        try:\n",
    "            result = int(input(\"please, provide a number: \"))\n",
    "        except:\n",
    "            print(\"Wront type\")\n",
    "            continue\n",
    "        else: \n",
    "            print(\"got the number\")\n",
    "            break\n",
    "        finally:\n",
    "            print(\"I run anyway\")"
   ]
  },
  {
   "cell_type": "code",
   "execution_count": 13,
   "id": "0fa05578",
   "metadata": {},
   "outputs": [
    {
     "name": "stdout",
     "output_type": "stream",
     "text": [
      "please, provide a number: i\n",
      "Wront type\n",
      "I run anyway\n",
      "please, provide a number: h\n",
      "Wront type\n",
      "I run anyway\n",
      "please, provide a number: l\n",
      "Wront type\n",
      "I run anyway\n",
      "please, provide a number: 0\n",
      "got the number\n",
      "I run anyway\n"
     ]
    }
   ],
   "source": [
    "need_int()"
   ]
  },
  {
   "cell_type": "code",
   "execution_count": null,
   "id": "7ff23294",
   "metadata": {},
   "outputs": [],
   "source": []
  },
  {
   "cell_type": "code",
   "execution_count": null,
   "id": "8d085e22",
   "metadata": {},
   "outputs": [],
   "source": []
  },
  {
   "cell_type": "code",
   "execution_count": null,
   "id": "ec88b654",
   "metadata": {},
   "outputs": [],
   "source": []
  },
  {
   "cell_type": "code",
   "execution_count": 15,
   "id": "2d286666",
   "metadata": {},
   "outputs": [
    {
     "name": "stdout",
     "output_type": "stream",
     "text": [
      "something is wrong\n"
     ]
    }
   ],
   "source": [
    "try:\n",
    "    for i in ['a','b','c']:\n",
    "        print(i**2)\n",
    "except:\n",
    "     print(\"something is wrong\")"
   ]
  },
  {
   "cell_type": "code",
   "execution_count": null,
   "id": "ab38b20c",
   "metadata": {},
   "outputs": [],
   "source": []
  },
  {
   "cell_type": "code",
   "execution_count": 18,
   "id": "c6fd027e",
   "metadata": {},
   "outputs": [
    {
     "name": "stdout",
     "output_type": "stream",
     "text": [
      "You cant devide by 0\n",
      "All done\n"
     ]
    }
   ],
   "source": [
    "try:\n",
    "    x = 5\n",
    "    y = 0\n",
    "\n",
    "    z = x/y\n",
    "except:\n",
    "    print(\"You cant devide by 0\")\n",
    "finally:\n",
    "    print(\"All done\")"
   ]
  },
  {
   "cell_type": "code",
   "execution_count": 23,
   "id": "935cc8e8",
   "metadata": {},
   "outputs": [],
   "source": [
    "def ask():\n",
    "    while True:\n",
    "        try:\n",
    "            x = int(input(\"Input an integer: \"))\n",
    "            y = x ** 0.5\n",
    "        except:\n",
    "            print(\"An error occurred! Please try again!\")\n",
    "            continue\n",
    "        else:\n",
    "            print(f\"Thank you, your number squared is: {y}\")\n",
    "            break\n",
    "        finally:\n",
    "            print(\"Yey\")"
   ]
  },
  {
   "cell_type": "code",
   "execution_count": 24,
   "id": "68cb93e8",
   "metadata": {},
   "outputs": [
    {
     "name": "stdout",
     "output_type": "stream",
     "text": [
      "Input an integer: 9\n",
      "Thank you, your number squared is: 3.0\n",
      "Yey\n"
     ]
    }
   ],
   "source": [
    "ask()"
   ]
  },
  {
   "cell_type": "code",
   "execution_count": null,
   "id": "22bcd7b0",
   "metadata": {},
   "outputs": [],
   "source": []
  }
 ],
 "metadata": {
  "kernelspec": {
   "display_name": "Python 3 (ipykernel)",
   "language": "python",
   "name": "python3"
  },
  "language_info": {
   "codemirror_mode": {
    "name": "ipython",
    "version": 3
   },
   "file_extension": ".py",
   "mimetype": "text/x-python",
   "name": "python",
   "nbconvert_exporter": "python",
   "pygments_lexer": "ipython3",
   "version": "3.9.13"
  }
 },
 "nbformat": 4,
 "nbformat_minor": 5
}
