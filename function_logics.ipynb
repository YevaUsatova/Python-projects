{
 "cells": [
  {
   "cell_type": "code",
   "execution_count": 3,
   "id": "af182cd6",
   "metadata": {},
   "outputs": [],
   "source": [
    "def new_fun(name):\n",
    "    print(f'Hi {name}')"
   ]
  },
  {
   "cell_type": "code",
   "execution_count": 4,
   "id": "e7809270",
   "metadata": {},
   "outputs": [
    {
     "name": "stdout",
     "output_type": "stream",
     "text": [
      "Hi Kate\n"
     ]
    }
   ],
   "source": [
    "new_fun(\"Kate\")"
   ]
  },
  {
   "cell_type": "code",
   "execution_count": 5,
   "id": "e2303e46",
   "metadata": {},
   "outputs": [],
   "source": [
    "def sums_n(n1, n2):\n",
    "    return(n1 + n2)"
   ]
  },
  {
   "cell_type": "code",
   "execution_count": 6,
   "id": "752d7d3c",
   "metadata": {},
   "outputs": [],
   "source": [
    "result = sums_n(3, 4)"
   ]
  },
  {
   "cell_type": "code",
   "execution_count": 7,
   "id": "70190772",
   "metadata": {},
   "outputs": [
    {
     "data": {
      "text/plain": [
       "7"
      ]
     },
     "execution_count": 7,
     "metadata": {},
     "output_type": "execute_result"
    }
   ],
   "source": [
    "result"
   ]
  },
  {
   "cell_type": "code",
   "execution_count": 26,
   "id": "6936f4f4",
   "metadata": {},
   "outputs": [],
   "source": [
    "def num_ig(num):\n",
    "    \n",
    "    new_var = []\n",
    "    for i in num:\n",
    "        if i%2 ==0:\n",
    "            new_var.append(i)\n",
    "        else:\n",
    "            pass\n",
    "    return new_var"
   ]
  },
  {
   "cell_type": "code",
   "execution_count": 28,
   "id": "df18fef8",
   "metadata": {},
   "outputs": [
    {
     "data": {
      "text/plain": [
       "[6]"
      ]
     },
     "execution_count": 28,
     "metadata": {},
     "output_type": "execute_result"
    }
   ],
   "source": [
    "num_ig([45,57, 6, 99])"
   ]
  },
  {
   "cell_type": "code",
   "execution_count": 44,
   "id": "f7e8c8ec",
   "metadata": {},
   "outputs": [],
   "source": [
    "hours = [(\"Kate\", 200), (\"Joe\", 3600), (\"Lisa\", 400)]"
   ]
  },
  {
   "cell_type": "code",
   "execution_count": 42,
   "id": "39f0720e",
   "metadata": {},
   "outputs": [],
   "source": [
    "def work_hour(hours):\n",
    "    current_max = 0\n",
    "    employ = ''\n",
    "    \n",
    "    for i,j in hours:\n",
    "        if j > current_max:\n",
    "            current_max = j\n",
    "            employ = i\n",
    "    \n",
    "    return(current_max, employ)"
   ]
  },
  {
   "cell_type": "code",
   "execution_count": 45,
   "id": "1d4459fd",
   "metadata": {},
   "outputs": [
    {
     "data": {
      "text/plain": [
       "(3600, 'Joe')"
      ]
     },
     "execution_count": 45,
     "metadata": {},
     "output_type": "execute_result"
    }
   ],
   "source": [
    "work_hour(hours)"
   ]
  },
  {
   "cell_type": "code",
   "execution_count": 46,
   "id": "079eb1e7",
   "metadata": {},
   "outputs": [],
   "source": [
    "name, hiurs = work_hour(hours)"
   ]
  },
  {
   "cell_type": "code",
   "execution_count": 47,
   "id": "f90df5bd",
   "metadata": {},
   "outputs": [
    {
     "data": {
      "text/plain": [
       "3600"
      ]
     },
     "execution_count": 47,
     "metadata": {},
     "output_type": "execute_result"
    }
   ],
   "source": [
    "name"
   ]
  },
  {
   "cell_type": "code",
   "execution_count": 48,
   "id": "ccbd507a",
   "metadata": {},
   "outputs": [
    {
     "data": {
      "text/plain": [
       "'Joe'"
      ]
     },
     "execution_count": 48,
     "metadata": {},
     "output_type": "execute_result"
    }
   ],
   "source": [
    "hiurs"
   ]
  },
  {
   "cell_type": "code",
   "execution_count": 1,
   "id": "b356212e",
   "metadata": {},
   "outputs": [],
   "source": [
    "\n",
    "from random import shuffle"
   ]
  },
  {
   "cell_type": "code",
   "execution_count": 2,
   "id": "64e5781a",
   "metadata": {},
   "outputs": [],
   "source": [
    "def my_f(new_l):\n",
    "    shuffle(new_l)\n",
    "    return(new_l)"
   ]
  },
  {
   "cell_type": "code",
   "execution_count": 3,
   "id": "78cdba39",
   "metadata": {},
   "outputs": [],
   "source": [
    "def guess_p():\n",
    "    num = ' '\n",
    "    \n",
    "    while num not in [\"0\", \"1\", \"2\"]:\n",
    "        num = input(\"guess number 0, 1, or 2:\")\n",
    "    return int(num)"
   ]
  },
  {
   "cell_type": "code",
   "execution_count": 7,
   "id": "14cc7faf",
   "metadata": {},
   "outputs": [],
   "source": [
    "def final_f(new_l, guessed):\n",
    "    if shuff[guessed] == \"O\":\n",
    "        print(\"correct\")\n",
    "    else:\n",
    "        print('wrong')"
   ]
  },
  {
   "cell_type": "code",
   "execution_count": 8,
   "id": "0eba5a66",
   "metadata": {},
   "outputs": [
    {
     "name": "stdout",
     "output_type": "stream",
     "text": [
      "guess number 0, 1, or 2:66\n",
      "guess number 0, 1, or 2:1\n",
      "correct\n"
     ]
    }
   ],
   "source": [
    "new_l = [' ', 'O', ' ']\n",
    "shuff = my_f(new_l)\n",
    "guessed = guess_p()\n",
    "final_f(shuff, guessed)\n"
   ]
  },
  {
   "cell_type": "code",
   "execution_count": 12,
   "id": "7a1c78c5",
   "metadata": {},
   "outputs": [],
   "source": [
    "def myfunc(*item):\n",
    "    print(item)\n",
    "    \n"
   ]
  },
  {
   "cell_type": "code",
   "execution_count": 13,
   "id": "89cd8b21",
   "metadata": {},
   "outputs": [
    {
     "name": "stdout",
     "output_type": "stream",
     "text": [
      "(10, 300.45, 76)\n"
     ]
    }
   ],
   "source": [
    "myfunc(10,300.45, 76)"
   ]
  },
  {
   "cell_type": "code",
   "execution_count": 14,
   "id": "8f166bd9",
   "metadata": {},
   "outputs": [],
   "source": [
    "def newf(**dics):\n",
    "    if 'frute' in dics:\n",
    "        print('my frute {}'.format(dics['frute']))\n",
    "    else:\n",
    "        print('no frute')"
   ]
  },
  {
   "cell_type": "code",
   "execution_count": 15,
   "id": "50b8ae96",
   "metadata": {},
   "outputs": [
    {
     "name": "stdout",
     "output_type": "stream",
     "text": [
      "my frute peach\n"
     ]
    }
   ],
   "source": [
    "newf(frute= 'peach')"
   ]
  },
  {
   "cell_type": "code",
   "execution_count": 16,
   "id": "8d42d24c",
   "metadata": {},
   "outputs": [],
   "source": [
    "def molly(*args, **dicts):\n",
    "    print('I love {} {}'.format(args[0], dicts['veggie']))"
   ]
  },
  {
   "cell_type": "code",
   "execution_count": 17,
   "id": "2273f1dd",
   "metadata": {},
   "outputs": [
    {
     "name": "stdout",
     "output_type": "stream",
     "text": [
      "I love 10 salad\n"
     ]
    }
   ],
   "source": [
    "molly(10,20, veggie='salad', cat='dog')"
   ]
  },
  {
   "cell_type": "code",
   "execution_count": 21,
   "id": "e5f4d3eb",
   "metadata": {},
   "outputs": [],
   "source": [
    "def myfunc(strr):\n",
    "    new_word = strr[0]\n",
    "    print(new_word)"
   ]
  },
  {
   "cell_type": "code",
   "execution_count": 22,
   "id": "e6f6e5e6",
   "metadata": {},
   "outputs": [
    {
     "name": "stdout",
     "output_type": "stream",
     "text": [
      "a\n"
     ]
    }
   ],
   "source": [
    "myfunc(\"absolutelly\")"
   ]
  },
  {
   "cell_type": "code",
   "execution_count": 87,
   "id": "e4981965",
   "metadata": {},
   "outputs": [],
   "source": [
    "def myfunc(strr):\n",
    "    arr = []\n",
    "    for i in range(len(strr)):\n",
    "        if i%2 == 0:\n",
    "            arr.append(strr[i].lower())\n",
    "        else:\n",
    "            arr.append(strr[i].upper())\n",
    "    return ''.join(arr)\n",
    "    "
   ]
  },
  {
   "cell_type": "code",
   "execution_count": 88,
   "id": "34c17b74",
   "metadata": {},
   "outputs": [
    {
     "data": {
      "text/plain": [
       "'oFcOuRsE'"
      ]
     },
     "execution_count": 88,
     "metadata": {},
     "output_type": "execute_result"
    }
   ],
   "source": [
    "myfunc(\"ofcourse\")"
   ]
  },
  {
   "cell_type": "code",
   "execution_count": 120,
   "id": "63d1c307",
   "metadata": {},
   "outputs": [],
   "source": [
    "def lesser_of_two_evens(a,b):\n",
    "    if a%2 == 0 and b%2 == 0:\n",
    "        return min(a,b)\n",
    "    else:\n",
    "        return max(a,b)"
   ]
  },
  {
   "cell_type": "code",
   "execution_count": 121,
   "id": "f0e83f0a",
   "metadata": {},
   "outputs": [
    {
     "data": {
      "text/plain": [
       "5"
      ]
     },
     "execution_count": 121,
     "metadata": {},
     "output_type": "execute_result"
    }
   ],
   "source": [
    "lesser_of_two_evens(2,5)"
   ]
  },
  {
   "cell_type": "code",
   "execution_count": 153,
   "id": "ca24d466",
   "metadata": {},
   "outputs": [],
   "source": [
    "def animal_crackers(text):\n",
    "    new_l = text.split()\n",
    "    return new_l[0][0] == new_l[1][0]"
   ]
  },
  {
   "cell_type": "code",
   "execution_count": 154,
   "id": "98b265e8",
   "metadata": {},
   "outputs": [
    {
     "data": {
      "text/plain": [
       "False"
      ]
     },
     "execution_count": 154,
     "metadata": {},
     "output_type": "execute_result"
    }
   ],
   "source": [
    "animal_crackers('Crazy Kangaroo')"
   ]
  },
  {
   "cell_type": "code",
   "execution_count": 160,
   "id": "35e12084",
   "metadata": {},
   "outputs": [],
   "source": [
    "def makes_twenty(n1,n2):\n",
    "    if n1 + n2 == 20:\n",
    "        return True\n",
    "    elif n1 == 20 or n2 == 20:\n",
    "        return True\n",
    "    else:\n",
    "        return False"
   ]
  },
  {
   "cell_type": "code",
   "execution_count": 162,
   "id": "b8cc72de",
   "metadata": {},
   "outputs": [
    {
     "data": {
      "text/plain": [
       "False"
      ]
     },
     "execution_count": 162,
     "metadata": {},
     "output_type": "execute_result"
    }
   ],
   "source": [
    "makes_twenty(2,3)"
   ]
  },
  {
   "cell_type": "code",
   "execution_count": 233,
   "id": "d720ee21",
   "metadata": {},
   "outputs": [],
   "source": [
    "def old_macdonald(name):\n",
    "    for i in name.split():\n",
    "        print(i[1])\n",
    "        if i[0]:\n",
    "            result = i.capitalize()           \n",
    "    return ''.join(result)   \n",
    "    "
   ]
  },
  {
   "cell_type": "code",
   "execution_count": 234,
   "id": "67a3faea",
   "metadata": {},
   "outputs": [
    {
     "name": "stdout",
     "output_type": "stream",
     "text": [
      "a\n"
     ]
    },
    {
     "data": {
      "text/plain": [
       "'Macdonald'"
      ]
     },
     "execution_count": 234,
     "metadata": {},
     "output_type": "execute_result"
    }
   ],
   "source": [
    "old_macdonald('macdonald')"
   ]
  },
  {
   "cell_type": "code",
   "execution_count": 236,
   "id": "b932a150",
   "metadata": {},
   "outputs": [],
   "source": [
    "def old_macdonald(name):\n",
    "    if len(name) > 3:\n",
    "        return name[:3].capitalize() + name[3:].capitalize()\n",
    "    else:\n",
    "        return 'Name is too short!'"
   ]
  },
  {
   "cell_type": "code",
   "execution_count": 237,
   "id": "5356892f",
   "metadata": {},
   "outputs": [
    {
     "data": {
      "text/plain": [
       "'MacDonald'"
      ]
     },
     "execution_count": 237,
     "metadata": {},
     "output_type": "execute_result"
    }
   ],
   "source": [
    "old_macdonald('macdonald')"
   ]
  },
  {
   "cell_type": "code",
   "execution_count": 263,
   "id": "454de624",
   "metadata": {},
   "outputs": [],
   "source": [
    "from random import shuffle\n",
    "def master_yoda(text):\n",
    "    new_t = text.split()\n",
    "    shuffle(new_t)\n",
    "    return(' '.join(new_t))"
   ]
  },
  {
   "cell_type": "code",
   "execution_count": 264,
   "id": "a15bd15c",
   "metadata": {},
   "outputs": [
    {
     "data": {
      "text/plain": [
       "'am I home'"
      ]
     },
     "execution_count": 264,
     "metadata": {},
     "output_type": "execute_result"
    }
   ],
   "source": [
    "master_yoda('I am home')"
   ]
  },
  {
   "cell_type": "code",
   "execution_count": 280,
   "id": "b7286940",
   "metadata": {},
   "outputs": [],
   "source": [
    "def almost_there(n):\n",
    "    if 90 < n < 110  or 190 < n < 210:\n",
    "        return True\n",
    "    return False   "
   ]
  },
  {
   "cell_type": "code",
   "execution_count": 286,
   "id": "b0930ecc",
   "metadata": {},
   "outputs": [
    {
     "data": {
      "text/plain": [
       "True"
      ]
     },
     "execution_count": 286,
     "metadata": {},
     "output_type": "execute_result"
    }
   ],
   "source": [
    "almost_there(209)\n"
   ]
  },
  {
   "cell_type": "code",
   "execution_count": 309,
   "id": "24849cd4",
   "metadata": {},
   "outputs": [],
   "source": [
    "def has_33(nums):\n",
    "    for i in range(len(nums)- 1):\n",
    "        if nums[i]==nums[i+1]:\n",
    "            return True\n",
    "    return False"
   ]
  },
  {
   "cell_type": "code",
   "execution_count": 312,
   "id": "c6ecc03b",
   "metadata": {},
   "outputs": [
    {
     "data": {
      "text/plain": [
       "False"
      ]
     },
     "execution_count": 312,
     "metadata": {},
     "output_type": "execute_result"
    }
   ],
   "source": [
    "has_33([3,1,3])"
   ]
  },
  {
   "cell_type": "code",
   "execution_count": 347,
   "id": "85b4648c",
   "metadata": {},
   "outputs": [],
   "source": [
    "def paper_doll(text):\n",
    "    result = ''\n",
    "    for char in text:\n",
    "        result += char * 3\n",
    "    return result"
   ]
  },
  {
   "cell_type": "code",
   "execution_count": 348,
   "id": "3ba7bd6b",
   "metadata": {},
   "outputs": [
    {
     "data": {
      "text/plain": [
       "'HHHeeellllllooo'"
      ]
     },
     "execution_count": 348,
     "metadata": {},
     "output_type": "execute_result"
    }
   ],
   "source": [
    "paper_doll('Hello')"
   ]
  },
  {
   "cell_type": "markdown",
   "id": "087e6b82",
   "metadata": {},
   "source": [
    "def blackjack(a,b,c):"
   ]
  },
  {
   "cell_type": "code",
   "execution_count": 448,
   "id": "aeab8f04",
   "metadata": {},
   "outputs": [],
   "source": [
    "def blackjack(a,b,c):\n",
    "    nums = (a,b,c)\n",
    "    total = a+b+c\n",
    "    if (total <= 31) and 11 in nums:\n",
    "        return  total - 10 \n",
    "    elif total > 21:\n",
    "            return \"Dang\"    \n",
    "    else:\n",
    "        return total"
   ]
  },
  {
   "cell_type": "code",
   "execution_count": 450,
   "id": "b77e5d50",
   "metadata": {},
   "outputs": [
    {
     "data": {
      "text/plain": [
       "19"
      ]
     },
     "execution_count": 450,
     "metadata": {},
     "output_type": "execute_result"
    }
   ],
   "source": [
    "blackjack(9,9,11)\n"
   ]
  },
  {
   "cell_type": "code",
   "execution_count": 451,
   "id": "bc6560f4",
   "metadata": {},
   "outputs": [],
   "source": [
    "def blackjack(a,b,c):\n",
    "    \n",
    "    if sum((a,b,c)) <= 21:\n",
    "        return sum((a,b,c))\n",
    "    elif sum((a,b,c)) <=31 and 11 in (a,b,c):\n",
    "        return sum((a,b,c)) - 10\n",
    "    else:\n",
    "        return 'BUST'"
   ]
  },
  {
   "cell_type": "code",
   "execution_count": 482,
   "id": "e1118870",
   "metadata": {},
   "outputs": [],
   "source": [
    "def summer_69(arr):\n",
    "    \n",
    "    for i in arr:\n",
    "        if 6 or 9 in arr:\n",
    "            return sum(arr[:x]) + sum(arr[y:])\n",
    "        else:\n",
    "            return sum(arr)"
   ]
  },
  {
   "cell_type": "code",
   "execution_count": 483,
   "id": "7ffc634f",
   "metadata": {},
   "outputs": [
    {
     "data": {
      "text/plain": [
       "39"
      ]
     },
     "execution_count": 483,
     "metadata": {},
     "output_type": "execute_result"
    }
   ],
   "source": [
    "summer_69([4, 5, 6, 7, 8, 9,2])"
   ]
  },
  {
   "cell_type": "code",
   "execution_count": 484,
   "id": "0e2adefd",
   "metadata": {},
   "outputs": [],
   "source": [
    "def summer_69(arr):\n",
    "    total = 0\n",
    "    add = True\n",
    "    for num in arr:\n",
    "        while add:\n",
    "            if num != 6:\n",
    "                total += num\n",
    "                break\n",
    "            else:\n",
    "                add = False\n",
    "        while not add:\n",
    "            if num != 9:\n",
    "                break\n",
    "            else:\n",
    "                add = True\n",
    "                break\n",
    "    return total"
   ]
  },
  {
   "cell_type": "code",
   "execution_count": 485,
   "id": "efa8c207",
   "metadata": {},
   "outputs": [
    {
     "data": {
      "text/plain": [
       "11"
      ]
     },
     "execution_count": 485,
     "metadata": {},
     "output_type": "execute_result"
    }
   ],
   "source": [
    "summer_69([4, 5, 6, 7, 8, 9,2])"
   ]
  },
  {
   "cell_type": "code",
   "execution_count": 486,
   "id": "396ab446",
   "metadata": {},
   "outputs": [
    {
     "data": {
      "text/plain": [
       "14"
      ]
     },
     "execution_count": 486,
     "metadata": {},
     "output_type": "execute_result"
    }
   ],
   "source": [
    "summer_69([2, 1, 6, 9, 11])"
   ]
  },
  {
   "cell_type": "code",
   "execution_count": 487,
   "id": "37eeff80",
   "metadata": {},
   "outputs": [],
   "source": [
    "def spy_game(nums):\n",
    "\n",
    "    code = [0,0,7,'x']\n",
    "    \n",
    "    for num in nums:\n",
    "        if num == code[0]:\n",
    "            code.pop(0)   # code.remove(num) also works\n",
    "       \n",
    "    return len(code) == 1"
   ]
  },
  {
   "cell_type": "code",
   "execution_count": 488,
   "id": "8b211a5e",
   "metadata": {},
   "outputs": [
    {
     "data": {
      "text/plain": [
       "True"
      ]
     },
     "execution_count": 488,
     "metadata": {},
     "output_type": "execute_result"
    }
   ],
   "source": [
    "spy_game([1,2,4,0,0,7,5])"
   ]
  },
  {
   "cell_type": "code",
   "execution_count": 489,
   "id": "47d63ad8",
   "metadata": {},
   "outputs": [],
   "source": [
    "def count_primes2(num):\n",
    "    primes = [2]\n",
    "    x = 3\n",
    "    if num < 2:\n",
    "        return 0\n",
    "    while x <= num:\n",
    "        for y in primes:  # use the primes list!\n",
    "            if x%y == 0:\n",
    "                x += 2\n",
    "                break\n",
    "        else:\n",
    "            primes.append(x)\n",
    "            x += 2\n",
    "    print(primes)\n",
    "    return len(primes)"
   ]
  },
  {
   "cell_type": "code",
   "execution_count": 490,
   "id": "cc6fcd4f",
   "metadata": {},
   "outputs": [
    {
     "name": "stdout",
     "output_type": "stream",
     "text": [
      "[2, 3, 5, 7, 11, 13, 17, 19, 23, 29, 31, 37, 41, 43, 47, 53, 59, 61, 67, 71, 73, 79, 83, 89, 97]\n"
     ]
    },
    {
     "data": {
      "text/plain": [
       "25"
      ]
     },
     "execution_count": 490,
     "metadata": {},
     "output_type": "execute_result"
    }
   ],
   "source": [
    "count_primes2(100)"
   ]
  },
  {
   "cell_type": "code",
   "execution_count": 491,
   "id": "a1e7578d",
   "metadata": {},
   "outputs": [],
   "source": [
    "def print_big(letter):\n",
    "    patterns = {1:'  *  ',2:' * * ',3:'*   *',4:'*****',5:'**** ',6:'   * ',7:' *   ',8:'*   * ',9:'*    '}\n",
    "    alphabet = {'A':[1,2,4,3,3],'B':[5,3,5,3,5],'C':[4,9,9,9,4],'D':[5,3,3,3,5],'E':[4,9,4,9,4]}\n",
    "    for pattern in alphabet[letter.upper()]:\n",
    "        print(patterns[pattern])"
   ]
  },
  {
   "cell_type": "code",
   "execution_count": 492,
   "id": "bc2b3326",
   "metadata": {},
   "outputs": [
    {
     "name": "stdout",
     "output_type": "stream",
     "text": [
      "  *  \n",
      " * * \n",
      "*****\n",
      "*   *\n",
      "*   *\n"
     ]
    }
   ],
   "source": [
    "print_big('a')"
   ]
  },
  {
   "cell_type": "code",
   "execution_count": null,
   "id": "cbd43157",
   "metadata": {},
   "outputs": [],
   "source": []
  }
 ],
 "metadata": {
  "kernelspec": {
   "display_name": "Python 3 (ipykernel)",
   "language": "python",
   "name": "python3"
  },
  "language_info": {
   "codemirror_mode": {
    "name": "ipython",
    "version": 3
   },
   "file_extension": ".py",
   "mimetype": "text/x-python",
   "name": "python",
   "nbconvert_exporter": "python",
   "pygments_lexer": "ipython3",
   "version": "3.9.13"
  }
 },
 "nbformat": 4,
 "nbformat_minor": 5
}
